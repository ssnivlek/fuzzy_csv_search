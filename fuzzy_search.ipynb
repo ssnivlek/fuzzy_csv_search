{
 "cells": [
  {
   "cell_type": "markdown",
   "metadata": {},
   "source": [
    "## Instalação do pacote necessário"
   ]
  },
  {
   "cell_type": "code",
   "execution_count": 1,
   "metadata": {},
   "outputs": [
    {
     "name": "stdout",
     "output_type": "stream",
     "text": [
      "Defaulting to user installation because normal site-packages is not writeable\n",
      "Collecting rapidfuzz\n",
      "  Using cached rapidfuzz-2.13.2-cp310-cp310-manylinux_2_17_x86_64.manylinux2014_x86_64.whl (2.2 MB)\n",
      "Installing collected packages: rapidfuzz\n",
      "Successfully installed rapidfuzz-2.13.2\n"
     ]
    }
   ],
   "source": [
    "!pip install rapidfuzz"
   ]
  },
  {
   "cell_type": "markdown",
   "metadata": {},
   "source": [
    "## Importação dos pacotes a serem utilizados"
   ]
  },
  {
   "cell_type": "code",
   "execution_count": 2,
   "metadata": {},
   "outputs": [],
   "source": [
    "import csv\n",
    "import os\n",
    "from rapidfuzz import fuzz\n",
    "from rapidfuzz.process import extract"
   ]
  },
  {
   "cell_type": "markdown",
   "metadata": {},
   "source": [
    "## Definição de "
   ]
  },
  {
   "cell_type": "code",
   "execution_count": 3,
   "metadata": {},
   "outputs": [],
   "source": [
    "def read_csv(csv_path, delimiter_char):\n",
    "    with open(csv_path, mode='r',encoding='utf-8-sig') as csv_file:\n",
    "        csv_reader = csv.DictReader(csv_file, delimiter=delimiter_char)\n",
    "        line_count = 0\n",
    "        wanted_columns = []\n",
    "        for row in csv_reader:\n",
    "\n",
    "            if line_count == 0:\n",
    "                columns_names = delimiter_char.join(row).split(delimiter_char)\n",
    "                line_count += 1\n",
    "\n",
    "            data={}\n",
    "            for column_name in columns_names: \n",
    "                data[column_name]=row[column_name]\n",
    "            wanted_columns.append(data)\n",
    "            line_count += 1\n",
    "\n",
    "        return wanted_columns"
   ]
  },
  {
   "cell_type": "code",
   "execution_count": 74,
   "metadata": {},
   "outputs": [],
   "source": [
    "product_search_name = \"bala halls\"\n",
    "search_accuracy = 70\n",
    "search_result_limit = 20"
   ]
  },
  {
   "cell_type": "code",
   "execution_count": 75,
   "metadata": {},
   "outputs": [
    {
     "data": {
      "text/plain": [
       "[{'Searched_CSV': 'CASA_CONSTRUCAO_E_JARDINAGEM.csv', 'Match': []},\n",
       " {'Searched_CSV': 'DADOS_ABERTOS_ALIMENTO.csv', 'Match': []},\n",
       " {'Searched_CSV': 'MERCADOS_EMPORIOS_E_PADARIAS.csv', 'Match': []},\n",
       " {'Searched_CSV': 'ROUPAS_CALCADOS_E_ACESSORIOS.csv', 'Match': []},\n",
       " {'Searched_CSV': 'COMERCIO_VAREJISTA_OU_ESPECIALIZADO.csv', 'Match': []},\n",
       " {'Searched_CSV': 'OFICINAS_MECANICAS_E_TECNICAS.csv', 'Match': []},\n",
       " {'Searched_CSV': 'VETERINARIAS_E_PET_SHOPS.csv', 'Match': []},\n",
       " {'Searched_CSV': 'INFORMATICA_GAMES_E_ELETRONICOS.csv', 'Match': []},\n",
       " {'Searched_CSV': 'BANCAS_QUIOSQUES_E_PAPELARIAS.csv',\n",
       "  'Match': [{'bala halls': [{'ProductName': 'BALA HALLS MENTA',\n",
       "      'Brand': 'MONDELEZ',\n",
       "      'MatchScore': 76.92},\n",
       "     {'ProductName': 'BALA HALLS CEREJA',\n",
       "      'Brand': 'MONDELEZ',\n",
       "      'MatchScore': 74.07}]}]}]"
      ]
     },
     "execution_count": 75,
     "metadata": {},
     "output_type": "execute_result"
    }
   ],
   "source": [
    "paths = [os.path.abspath(os.path.join('searched_csvs', p)) for p in os.listdir('searched_csvs')]\n",
    "array_final = []\n",
    "\n",
    "for path in paths:\n",
    "    secondary_comparer=read_csv(path,';')\n",
    "\n",
    "    array=[]\n",
    "    score1 = extract(product_search_name, [d['ProductName'] for d in secondary_comparer], scorer=fuzz.QRatio,limit=search_result_limit, score_cutoff=search_accuracy)\n",
    "        \n",
    "    if score1:\n",
    "        array1=[]\n",
    "        for score in score1:\n",
    "            obj={'ProductName': score[0],'Brand':secondary_comparer[score[2]]['Brand'],'MatchScore':round(score[1],2)}\n",
    "            array1.append(obj)\n",
    "        array.append({product_search_name:array1})\n",
    "\n",
    "    obj_final={'Searched_CSV':path.split('/')[-1],'Match':array}\n",
    "\n",
    "    array_final.append(obj_final)\n",
    "\n",
    "array_final"
   ]
  }
 ],
 "metadata": {
  "interpreter": {
   "hash": "916dbcbb3f70747c44a77c7bcd40155683ae19c65e1c03b4aa3499c5328201f1"
  },
  "kernelspec": {
   "display_name": "Python 3.10.6 64-bit",
   "language": "python",
   "name": "python3"
  },
  "language_info": {
   "codemirror_mode": {
    "name": "ipython",
    "version": 3
   },
   "file_extension": ".py",
   "mimetype": "text/x-python",
   "name": "python",
   "nbconvert_exporter": "python",
   "pygments_lexer": "ipython3",
   "version": "3.10.6"
  },
  "orig_nbformat": 4
 },
 "nbformat": 4,
 "nbformat_minor": 2
}
