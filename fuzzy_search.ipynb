{
 "cells": [
  {
   "cell_type": "markdown",
   "metadata": {},
   "source": [
    "## Instalação do pacote necessário"
   ]
  },
  {
   "cell_type": "code",
   "execution_count": 106,
   "metadata": {},
   "outputs": [
    {
     "name": "stdout",
     "output_type": "stream",
     "text": [
      "Defaulting to user installation because normal site-packages is not writeable\n",
      "Requirement already satisfied: rapidfuzz in /home/kelvo/.local/lib/python3.10/site-packages (2.13.2)\n",
      "Defaulting to user installation because normal site-packages is not writeable\n",
      "Requirement already satisfied: pandas in /home/kelvo/.local/lib/python3.10/site-packages (1.5.0)\n",
      "Requirement already satisfied: python-dateutil>=2.8.1 in /home/kelvo/.local/lib/python3.10/site-packages (from pandas) (2.8.2)\n",
      "Requirement already satisfied: pytz>=2020.1 in /usr/lib/python3/dist-packages (from pandas) (2022.1)\n",
      "Requirement already satisfied: numpy>=1.21.0 in /usr/lib/python3/dist-packages (from pandas) (1.21.5)\n",
      "Requirement already satisfied: six>=1.5 in /usr/lib/python3/dist-packages (from python-dateutil>=2.8.1->pandas) (1.16.0)\n",
      "Defaulting to user installation because normal site-packages is not writeable\n",
      "Requirement already satisfied: numpy in /usr/lib/python3/dist-packages (1.21.5)\n"
     ]
    }
   ],
   "source": [
    "!pip install rapidfuzz\n",
    "!pip install pandas\n",
    "!pip install numpy"
   ]
  },
  {
   "cell_type": "markdown",
   "metadata": {},
   "source": [
    "## Importação dos pacotes a serem utilizados"
   ]
  },
  {
   "cell_type": "code",
   "execution_count": 2,
   "metadata": {},
   "outputs": [],
   "source": [
    "import csv\n",
    "import os\n",
    "from rapidfuzz import fuzz\n",
    "from rapidfuzz.process import extract"
   ]
  },
  {
   "cell_type": "markdown",
   "metadata": {},
   "source": [
    "## Definição de "
   ]
  },
  {
   "cell_type": "code",
   "execution_count": 3,
   "metadata": {},
   "outputs": [],
   "source": [
    "def read_csv(csv_path, delimiter_char):\n",
    "    with open(csv_path, mode='r',encoding='utf-8-sig') as csv_file:\n",
    "        csv_reader = csv.DictReader(csv_file, delimiter=delimiter_char)\n",
    "        line_count = 0\n",
    "        wanted_columns = []\n",
    "        for row in csv_reader:\n",
    "\n",
    "            if line_count == 0:\n",
    "                columns_names = delimiter_char.join(row).split(delimiter_char)\n",
    "                line_count += 1\n",
    "\n",
    "            data={}\n",
    "            for column_name in columns_names: \n",
    "                data[column_name]=row[column_name]\n",
    "            wanted_columns.append(data)\n",
    "            line_count += 1\n",
    "\n",
    "        return wanted_columns"
   ]
  },
  {
   "cell_type": "code",
   "execution_count": 148,
   "metadata": {},
   "outputs": [],
   "source": [
    "product_search_name = \"tapioca crocante\"\n",
    "search_accuracy = 70\n",
    "search_result_limit = 5"
   ]
  },
  {
   "cell_type": "code",
   "execution_count": 219,
   "metadata": {},
   "outputs": [],
   "source": [
    "paths = [os.path.abspath(os.path.join('searched_csvs', p)) for p in os.listdir('searched_csvs')]\n",
    "array_complete = []\n",
    "array_matches = []\n",
    "array_results = []\n",
    "\n",
    "for path in paths:\n",
    "    secondary_comparer=read_csv(path,';')\n",
    "\n",
    "    result_match=None\n",
    "    result_match2=None\n",
    "    score1 = extract(product_search_name, [d['ProductName'] for d in secondary_comparer], scorer=fuzz.QRatio,limit=search_result_limit, score_cutoff=search_accuracy)\n",
    "        \n",
    "    if score1:\n",
    "        array_inside=[]\n",
    "        for score in score1:\n",
    "            product_name = score[0]\n",
    "            brand=secondary_comparer[score[2]]['Brand']\n",
    "            match_score =round(score[1],2)\n",
    "            csv_name= path.split('/')[-1]\n",
    "\n",
    "            obj={'Product_Name': product_name,'Brand':brand,'Match_Score':match_score}\n",
    "\n",
    "            array_inside.append(obj)\n",
    "\n",
    "            obj[\"Searched_CSV\"]=csv_name\n",
    "            array_results.append(obj)\n",
    "\n",
    "        result_match=array_inside\n",
    "        obj_matches={'Searched_CSV':csv_name,'Match_Result':len(result_match)}\n",
    "        array_matches.append(obj_matches)\n",
    "\n",
    "    obj_result={'Searched_CSV':csv_name,'Match_Result':result_match}\n",
    "    array_complete.append(obj_result)\n"
   ]
  },
  {
   "cell_type": "code",
   "execution_count": 220,
   "metadata": {},
   "outputs": [
    {
     "name": "stdout",
     "output_type": "stream",
     "text": [
      "Result of Fuzzy String Match of tapioca crocante:\n"
     ]
    },
    {
     "data": {
      "text/plain": [
       "[{'Searched_CSV': 'MERCADOS_EMPORIOS_E_PADARIAS.csv', 'Match_Result': None},\n",
       " {'Searched_CSV': 'DADOS_ABERTOS_ALIMENTO.csv',\n",
       "  'Match_Result': [{'Product_Name': 'PAPRICA PICANTE',\n",
       "    'Brand': 'DAFAPS INDUSTRIA E COMERCIO DE PRODS ALIMS. LTDA',\n",
       "    'Match_Score': 70.97,\n",
       "    'Searched_CSV': 'DADOS_ABERTOS_ALIMENTO.csv'},\n",
       "   {'Product_Name': 'PAPRICA PICANTE',\n",
       "    'Brand': 'FECULARIA DE MILHO SAO JOSE LTDA',\n",
       "    'Match_Score': 70.97,\n",
       "    'Searched_CSV': 'DADOS_ABERTOS_ALIMENTO.csv'},\n",
       "   {'Product_Name': 'PAPRICA PICANTE',\n",
       "    'Brand': 'FUCHS GEWURZE DO BRASIL LTDA.',\n",
       "    'Match_Score': 70.97,\n",
       "    'Searched_CSV': 'DADOS_ABERTOS_ALIMENTO.csv'},\n",
       "   {'Product_Name': 'PAPRICA PICANTE',\n",
       "    'Brand': 'MAC TOST IND COM PROD ALIMENTICIO LTDA - ME',\n",
       "    'Match_Score': 70.97,\n",
       "    'Searched_CSV': 'DADOS_ABERTOS_ALIMENTO.csv'},\n",
       "   {'Product_Name': 'PAPRICA PICANTE',\n",
       "    'Brand': 'TEMPEROS & ARTE IND. E COM. LTDA ME',\n",
       "    'Match_Score': 70.97,\n",
       "    'Searched_CSV': 'DADOS_ABERTOS_ALIMENTO.csv'}]},\n",
       " {'Searched_CSV': 'MERCADOS_EMPORIOS_E_PADARIAS.csv',\n",
       "  'Match_Result': [{'Product_Name': 'TAPIOCA CROCANTE 180g',\n",
       "    'Brand': 'Tia Sônia',\n",
       "    'Match_Score': 86.49,\n",
       "    'Searched_CSV': 'MERCADOS_EMPORIOS_E_PADARIAS.csv'}]},\n",
       " {'Searched_CSV': 'MERCADOS_EMPORIOS_E_PADARIAS.csv', 'Match_Result': None},\n",
       " {'Searched_CSV': 'MERCADOS_EMPORIOS_E_PADARIAS.csv', 'Match_Result': None},\n",
       " {'Searched_CSV': 'MERCADOS_EMPORIOS_E_PADARIAS.csv', 'Match_Result': None},\n",
       " {'Searched_CSV': 'MERCADOS_EMPORIOS_E_PADARIAS.csv', 'Match_Result': None},\n",
       " {'Searched_CSV': 'MERCADOS_EMPORIOS_E_PADARIAS.csv', 'Match_Result': None},\n",
       " {'Searched_CSV': 'MERCADOS_EMPORIOS_E_PADARIAS.csv', 'Match_Result': None}]"
      ]
     },
     "execution_count": 220,
     "metadata": {},
     "output_type": "execute_result"
    }
   ],
   "source": [
    "print(f'Result of Fuzzy String Match of {product_search_name}:')\n",
    "array_complete"
   ]
  },
  {
   "cell_type": "code",
   "execution_count": 221,
   "metadata": {},
   "outputs": [
    {
     "name": "stdout",
     "output_type": "stream",
     "text": [
      "Number of matches per CSV with Match_Result different than None:\n"
     ]
    },
    {
     "data": {
      "text/plain": [
       "[{'Searched_CSV': 'DADOS_ABERTOS_ALIMENTO.csv', 'Match_Result': 5},\n",
       " {'Searched_CSV': 'MERCADOS_EMPORIOS_E_PADARIAS.csv', 'Match_Result': 1}]"
      ]
     },
     "execution_count": 221,
     "metadata": {},
     "output_type": "execute_result"
    }
   ],
   "source": [
    "print('Number of matches per CSV with Match_Result different than None:')\n",
    "array_matches"
   ]
  },
  {
   "cell_type": "code",
   "execution_count": 222,
   "metadata": {},
   "outputs": [
    {
     "name": "stdout",
     "output_type": "stream",
     "text": [
      "Final Array with Product_Name, Brand, Match_Score and Searched_CSV:\n"
     ]
    },
    {
     "data": {
      "text/plain": [
       "[{'Product_Name': 'PAPRICA PICANTE',\n",
       "  'Brand': 'DAFAPS INDUSTRIA E COMERCIO DE PRODS ALIMS. LTDA',\n",
       "  'Match_Score': 70.97,\n",
       "  'Searched_CSV': 'DADOS_ABERTOS_ALIMENTO.csv'},\n",
       " {'Product_Name': 'PAPRICA PICANTE',\n",
       "  'Brand': 'FECULARIA DE MILHO SAO JOSE LTDA',\n",
       "  'Match_Score': 70.97,\n",
       "  'Searched_CSV': 'DADOS_ABERTOS_ALIMENTO.csv'},\n",
       " {'Product_Name': 'PAPRICA PICANTE',\n",
       "  'Brand': 'FUCHS GEWURZE DO BRASIL LTDA.',\n",
       "  'Match_Score': 70.97,\n",
       "  'Searched_CSV': 'DADOS_ABERTOS_ALIMENTO.csv'},\n",
       " {'Product_Name': 'PAPRICA PICANTE',\n",
       "  'Brand': 'MAC TOST IND COM PROD ALIMENTICIO LTDA - ME',\n",
       "  'Match_Score': 70.97,\n",
       "  'Searched_CSV': 'DADOS_ABERTOS_ALIMENTO.csv'},\n",
       " {'Product_Name': 'PAPRICA PICANTE',\n",
       "  'Brand': 'TEMPEROS & ARTE IND. E COM. LTDA ME',\n",
       "  'Match_Score': 70.97,\n",
       "  'Searched_CSV': 'DADOS_ABERTOS_ALIMENTO.csv'},\n",
       " {'Product_Name': 'TAPIOCA CROCANTE 180g',\n",
       "  'Brand': 'Tia Sônia',\n",
       "  'Match_Score': 86.49,\n",
       "  'Searched_CSV': 'MERCADOS_EMPORIOS_E_PADARIAS.csv'}]"
      ]
     },
     "execution_count": 222,
     "metadata": {},
     "output_type": "execute_result"
    }
   ],
   "source": [
    "print('Final Array with Product_Name, Brand, Match_Score and Searched_CSV:')\n",
    "array_results"
   ]
  },
  {
   "cell_type": "code",
   "execution_count": 189,
   "metadata": {},
   "outputs": [],
   "source": [
    "import pandas as pd"
   ]
  },
  {
   "cell_type": "code",
   "execution_count": 190,
   "metadata": {},
   "outputs": [
    {
     "name": "stdout",
     "output_type": "stream",
     "text": [
      "<class 'pandas.core.frame.DataFrame'>\n",
      "RangeIndex: 2 entries, 0 to 1\n",
      "Data columns (total 2 columns):\n",
      " #   Column        Non-Null Count  Dtype \n",
      "---  ------        --------------  ----- \n",
      " 0   Searched_CSV  2 non-null      object\n",
      " 1   Match         2 non-null      int64 \n",
      "dtypes: int64(1), object(1)\n",
      "memory usage: 160.0+ bytes\n"
     ]
    }
   ],
   "source": [
    "df = pd.DataFrame.from_records(array_matches)\n",
    "df.info()"
   ]
  },
  {
   "cell_type": "code",
   "execution_count": 191,
   "metadata": {},
   "outputs": [
    {
     "data": {
      "text/html": [
       "<div>\n",
       "<style scoped>\n",
       "    .dataframe tbody tr th:only-of-type {\n",
       "        vertical-align: middle;\n",
       "    }\n",
       "\n",
       "    .dataframe tbody tr th {\n",
       "        vertical-align: top;\n",
       "    }\n",
       "\n",
       "    .dataframe thead th {\n",
       "        text-align: right;\n",
       "    }\n",
       "</style>\n",
       "<table border=\"1\" class=\"dataframe\">\n",
       "  <thead>\n",
       "    <tr style=\"text-align: right;\">\n",
       "      <th></th>\n",
       "      <th>Searched_CSV</th>\n",
       "      <th>Match</th>\n",
       "    </tr>\n",
       "  </thead>\n",
       "  <tbody>\n",
       "    <tr>\n",
       "      <th>0</th>\n",
       "      <td>DADOS_ABERTOS_ALIMENTO.csv</td>\n",
       "      <td>5</td>\n",
       "    </tr>\n",
       "    <tr>\n",
       "      <th>1</th>\n",
       "      <td>MERCADOS_EMPORIOS_E_PADARIAS.csv</td>\n",
       "      <td>1</td>\n",
       "    </tr>\n",
       "  </tbody>\n",
       "</table>\n",
       "</div>"
      ],
      "text/plain": [
       "                       Searched_CSV  Match\n",
       "0        DADOS_ABERTOS_ALIMENTO.csv      5\n",
       "1  MERCADOS_EMPORIOS_E_PADARIAS.csv      1"
      ]
     },
     "execution_count": 191,
     "metadata": {},
     "output_type": "execute_result"
    }
   ],
   "source": [
    "df.head()"
   ]
  },
  {
   "cell_type": "code",
   "execution_count": 192,
   "metadata": {},
   "outputs": [],
   "source": [
    "df.dropna(inplace=True)"
   ]
  },
  {
   "cell_type": "code",
   "execution_count": 193,
   "metadata": {},
   "outputs": [
    {
     "data": {
      "text/html": [
       "<div>\n",
       "<style scoped>\n",
       "    .dataframe tbody tr th:only-of-type {\n",
       "        vertical-align: middle;\n",
       "    }\n",
       "\n",
       "    .dataframe tbody tr th {\n",
       "        vertical-align: top;\n",
       "    }\n",
       "\n",
       "    .dataframe thead th {\n",
       "        text-align: right;\n",
       "    }\n",
       "</style>\n",
       "<table border=\"1\" class=\"dataframe\">\n",
       "  <thead>\n",
       "    <tr style=\"text-align: right;\">\n",
       "      <th></th>\n",
       "      <th>Searched_CSV</th>\n",
       "      <th>Match</th>\n",
       "    </tr>\n",
       "  </thead>\n",
       "  <tbody>\n",
       "    <tr>\n",
       "      <th>0</th>\n",
       "      <td>DADOS_ABERTOS_ALIMENTO.csv</td>\n",
       "      <td>5</td>\n",
       "    </tr>\n",
       "    <tr>\n",
       "      <th>1</th>\n",
       "      <td>MERCADOS_EMPORIOS_E_PADARIAS.csv</td>\n",
       "      <td>1</td>\n",
       "    </tr>\n",
       "  </tbody>\n",
       "</table>\n",
       "</div>"
      ],
      "text/plain": [
       "                       Searched_CSV  Match\n",
       "0        DADOS_ABERTOS_ALIMENTO.csv      5\n",
       "1  MERCADOS_EMPORIOS_E_PADARIAS.csv      1"
      ]
     },
     "execution_count": 193,
     "metadata": {},
     "output_type": "execute_result"
    }
   ],
   "source": [
    "df.head()"
   ]
  }
 ],
 "metadata": {
  "interpreter": {
   "hash": "916dbcbb3f70747c44a77c7bcd40155683ae19c65e1c03b4aa3499c5328201f1"
  },
  "kernelspec": {
   "display_name": "Python 3.10.6 64-bit",
   "language": "python",
   "name": "python3"
  },
  "language_info": {
   "codemirror_mode": {
    "name": "ipython",
    "version": 3
   },
   "file_extension": ".py",
   "mimetype": "text/x-python",
   "name": "python",
   "nbconvert_exporter": "python",
   "pygments_lexer": "ipython3",
   "version": "3.10.6"
  },
  "orig_nbformat": 4
 },
 "nbformat": 4,
 "nbformat_minor": 2
}
